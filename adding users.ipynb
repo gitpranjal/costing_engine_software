{
 "cells": [
  {
   "cell_type": "code",
   "execution_count": 1,
   "metadata": {},
   "outputs": [],
   "source": [
    "import pymongo\n",
    "from pymongo import MongoClient\n",
    "from flask import Flask\n",
    "from flask_pymongo import PyMongo"
   ]
  },
  {
   "cell_type": "code",
   "execution_count": 7,
   "metadata": {},
   "outputs": [],
   "source": [
    "new_users={\"shinchan\": {\"password\":\"japan\"}}"
   ]
  },
  {
   "cell_type": "code",
   "execution_count": null,
   "metadata": {},
   "outputs": [],
   "source": [
    "client=\"\"\n",
    "database_name=\"\""
   ]
  },
  {
   "cell_type": "code",
   "execution_count": 8,
   "metadata": {},
   "outputs": [],
   "source": [
    "def update_mongo_username_database(new_users,client=pymongo.MongoClient( \"mongodb://localhost:27017/\"), database_name=\"costing_engine_db_with_login\"):\n",
    "    try:\n",
    "        current_database=list(client[database_name][\"users\"].find({\"database_name\":\"username_password\"}))[0]\n",
    "        updated_database=current_database\n",
    "        updated_database.pop(\"_id\")\n",
    "        for key,value in new_users.items():\n",
    "            updated_database[key]=value\n",
    "        client[\"costing_engine_db_with_login\"][\"users\"].replace_one({\"database_name\":\"username_password\"}, updated_database)\n",
    "        print(\"username password database updated\")\n",
    "    except:\n",
    "        print(\"username password database couldn't be updated\")"
   ]
  },
  {
   "cell_type": "code",
   "execution_count": 9,
   "metadata": {},
   "outputs": [
    {
     "name": "stdout",
     "output_type": "stream",
     "text": [
      "username password database updated\n"
     ]
    }
   ],
   "source": [
    "update_mongo_username_database(new_users)"
   ]
  },
  {
   "cell_type": "code",
   "execution_count": 10,
   "metadata": {},
   "outputs": [
    {
     "data": {
      "text/plain": [
       "{'_id': ObjectId('5d89aad71615a73978b87001'),\n",
       " 'database_name': 'username_password',\n",
       " 'satyam': {'password': 'abc'},\n",
       " 'divyang': {'password': 'pqr'},\n",
       " 'pranjal': {'password': 'xyz'},\n",
       " 'saurabh': {'password': 'lmn'},\n",
       " 'megan fox': {'password': 'opq'},\n",
       " 'shinchan': {'password': 'japan'}}"
      ]
     },
     "execution_count": 10,
     "metadata": {},
     "output_type": "execute_result"
    }
   ],
   "source": [
    "list(pymongo.MongoClient( \"mongodb://localhost:27017/\")[\"costing_engine_db_with_login\"][\"users\"].find({\"database_name\":\"username_password\"}))[0]"
   ]
  },
  {
   "cell_type": "code",
   "execution_count": null,
   "metadata": {},
   "outputs": [],
   "source": []
  }
 ],
 "metadata": {
  "kernelspec": {
   "display_name": "Python 3",
   "language": "python",
   "name": "python3"
  },
  "language_info": {
   "codemirror_mode": {
    "name": "ipython",
    "version": 3
   },
   "file_extension": ".py",
   "mimetype": "text/x-python",
   "name": "python",
   "nbconvert_exporter": "python",
   "pygments_lexer": "ipython3",
   "version": "3.7.3"
  }
 },
 "nbformat": 4,
 "nbformat_minor": 2
}
